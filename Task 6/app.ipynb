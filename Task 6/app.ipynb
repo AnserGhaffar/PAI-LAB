{
 "cells": [
  {
   "cell_type": "markdown",
   "metadata": {},
   "source": [
    "# NAME: ANSER GHAFFAR\n",
    "# ROLL NO: SU92-BSDSM-F23-032\n",
    "# SECTION: BSDS 4A\n",
    "# PAI LAB TASK 6"
   ]
  },
  {
   "cell_type": "code",
   "execution_count": null,
   "metadata": {},
   "outputs": [],
   "source": [
    "import cv2\n",
    "import numpy as np\n",
    "import torch\n",
    "import folium\n",
    "from datetime import datetime\n",
    "from ultralytics import YOLO\n",
    "from flask import Flask, render_template, Response"
   ]
  },
  {
   "cell_type": "code",
   "execution_count": null,
   "metadata": {},
   "outputs": [],
   "source": [
    "app = Flask(__name__)\n",
    "model = YOLO(\"yolov8n.pt\")  \n",
    "cap = cv2.VideoCapture(0)\n",
    "\n",
    "alert_locations = []\n",
    "base_lat, base_lon = 31.5204, 74.3587  \n",
    "\n",
    "def generate_frames():\n",
    "    frame_count = 0\n",
    "    while cap.isOpened():\n",
    "        success, frame = cap.read()\n",
    "        if not success:\n",
    "            break \n",
    "        \n",
    "        results = model(frame)\n",
    "        \n",
    "        for result in results:\n",
    "            for box in result.boxes:\n",
    "                x1, y1, x2, y2 = map(int, box.xyxy[0])\n",
    "                conf = box.conf[0].item()\n",
    "                label = result.names[int(box.cls[0].item())]\n",
    "                \n",
    "                if conf > 0.5:  \n",
    "                    cv2.rectangle(frame, (x1, y1), (x2, y2), (0, 255, 0), 2)\n",
    "                    cv2.putText(frame, f\"{label}: {conf:.2f}\", (x1, y1 - 10),\n",
    "                                cv2.FONT_HERSHEY_SIMPLEX, 0.5, (0, 255, 0), 2)\n",
    "                    \n",
    "                    lat = base_lat + np.random.uniform(-0.01, 0.01)\n",
    "                    lon = base_lon + np.random.uniform(-0.01, 0.01)\n",
    "                    timestamp = datetime.now().strftime(\"%Y-%m-%d %H:%M:%S\")\n",
    "                    \n",
    "                    alert_locations.append((lat, lon, label, timestamp))\n",
    "        \n",
    "        _, buffer = cv2.imencode('.jpg', frame)\n",
    "        frame = buffer.tobytes()\n",
    "        yield (b'--frame\\r\\n'\n",
    "               b'Content-Type: image/jpeg\\r\\n\\r\\n' + frame + b'\\r\\n')\n",
    "        \n",
    "        frame_count += 1\n",
    "        if frame_count >= 100: \n",
    "            break\n"
   ]
  },
  {
   "cell_type": "code",
   "execution_count": null,
   "metadata": {},
   "outputs": [],
   "source": [
    "@app.route('/video_feed')\n",
    "def video_feed():\n",
    "    return Response(generate_frames(), mimetype='multipart/x-mixed-replace; boundary=frame')\n",
    "\n",
    "@app.route('/')\n",
    "def index():\n",
    "    return render_template('index.html')\n",
    "\n",
    "@app.route('/stop')\n",
    "def stop():\n",
    "    cap.release()\n",
    "    \n",
    "    m = folium.Map(location=(base_lat, base_lon), zoom_start=12)\n",
    "\n",
    "    for lat, lon, label, timestamp in alert_locations:\n",
    "        popup_text = f\"{label} detected at {timestamp}\"\n",
    "        folium.Marker(\n",
    "            location=[lat, lon],\n",
    "            popup=popup_text,\n",
    "            icon=folium.Icon(color=\"red\", icon=\"paw\")\n",
    "        ).add_to(m)\n",
    "\n",
    "    map_path = \"static/herd_alert_map.html\"\n",
    "    m.save(map_path)\n",
    "    return f\"Detection stopped. <br> <a href='{map_path}' target='_blank'>View Animal Detection Map</a>\"\n",
    "\n",
    "if __name__ == '__main__':\n",
    "    app.run(debug=True)\n"
   ]
  }
 ],
 "metadata": {
  "language_info": {
   "name": "python"
  }
 },
 "nbformat": 4,
 "nbformat_minor": 2
}
