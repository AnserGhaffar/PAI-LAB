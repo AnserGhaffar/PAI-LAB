{
 "cells": [
  {
   "cell_type": "code",
   "execution_count": 3,
   "metadata": {},
   "outputs": [],
   "source": [
    "from collections import deque\n",
    "\n",
    "def water_jug_dfs(cap1, cap2, target):\n",
    "    stack = [(0, 0, [])] \n",
    "    visited = set()\n",
    "    \n",
    "    while stack:\n",
    "        jug1, jug2, path = stack.pop()\n",
    "        \n",
    "        if (jug1, jug2) in visited:\n",
    "            continue\n",
    "        visited.add((jug1, jug2))\n",
    "        \n",
    "        path.append((jug1, jug2))\n",
    "        \n",
    "        if jug1 == target or jug2 == target:\n",
    "            print(\"Solution Found:\")\n",
    "            for step in path:\n",
    "                print(step)\n",
    "            return\n",
    "        \n",
    "        possible_moves = [\n",
    "            (cap1, jug2), \n",
    "            (jug1, cap2),  \n",
    "            (0, jug2),     \n",
    "            (jug1, 0),     \n",
    "            (jug1 - min(jug1, cap2 - jug2), jug2 + min(jug1, cap2 - jug2)),  \n",
    "            (jug1 + min(jug2, cap1 - jug1), jug2 - min(jug2, cap1 - jug1)),  \n",
    "            (0, jug1 + jug2) if jug1 + jug2 <= cap2 else (jug1 - (cap2 - jug2), cap2), \n",
    "            (jug1 + jug2, 0) if jug1 + jug2 <= cap1 else (cap1, jug2 - (cap1 - jug1))   \n",
    "        ]\n",
    "        \n",
    "        for move in possible_moves:\n",
    "            if move not in visited:\n",
    "                stack.append((move[0], move[1], path.copy()))\n",
    "    \n",
    "    print(\"No solution found.\")\n",
    "\n"
   ]
  },
  {
   "cell_type": "code",
   "execution_count": 4,
   "metadata": {},
   "outputs": [
    {
     "name": "stdout",
     "output_type": "stream",
     "text": [
      "Solution Found:\n",
      "(0, 0)\n",
      "(0, 3)\n",
      "(3, 0)\n",
      "(3, 3)\n",
      "(4, 2)\n"
     ]
    }
   ],
   "source": [
    "water_jug_dfs(4, 3, 2)  \n"
   ]
  },
  {
   "cell_type": "code",
   "execution_count": null,
   "metadata": {},
   "outputs": [],
   "source": []
  }
 ],
 "metadata": {
  "kernelspec": {
   "display_name": "Python 3",
   "language": "python",
   "name": "python3"
  },
  "language_info": {
   "codemirror_mode": {
    "name": "ipython",
    "version": 3
   },
   "file_extension": ".py",
   "mimetype": "text/x-python",
   "name": "python",
   "nbconvert_exporter": "python",
   "pygments_lexer": "ipython3",
   "version": "3.13.2"
  }
 },
 "nbformat": 4,
 "nbformat_minor": 2
}
